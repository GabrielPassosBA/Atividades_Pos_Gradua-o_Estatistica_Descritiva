{
  "nbformat": 4,
  "nbformat_minor": 0,
  "metadata": {
    "colab": {
      "provenance": []
    },
    "kernelspec": {
      "name": "ir",
      "display_name": "R"
    },
    "language_info": {
      "name": "R"
    }
  },
  "cells": [
    {
      "cell_type": "markdown",
      "source": [
        "#Aula prática 02 - Medidas de tendência central\n"
      ],
      "metadata": {
        "id": "l0N3LOpSpYLz"
      }
    },
    {
      "cell_type": "code",
      "source": [
        "#Para não aparecer notação científica\n",
        "options(scipen=999)"
      ],
      "metadata": {
        "id": "XBO3gtGlp6pq"
      },
      "execution_count": null,
      "outputs": []
    },
    {
      "cell_type": "markdown",
      "source": [
        "Instalando e carregando **Bibliotecas**"
      ],
      "metadata": {
        "id": "-Ywaktv-puHO"
      }
    },
    {
      "cell_type": "code",
      "source": [
        "#Biblioteca que calcula assimetria e curtose no R\n",
        "install.packages(\"e1071\")\n",
        "install.packages(\"DescTools\")\n",
        "install.packages(\"Hmisc\")\n",
        "#install.packages(\"dplyr\")"
      ],
      "metadata": {
        "id": "j_8_emOnpkCW",
        "colab": {
          "base_uri": "https://localhost:8080/"
        },
        "outputId": "ee3c9c5c-8115-486f-8b4d-479603e4d3ac"
      },
      "execution_count": null,
      "outputs": [
        {
          "output_type": "stream",
          "name": "stderr",
          "text": [
            "Installing package into ‘/usr/local/lib/R/site-library’\n",
            "(as ‘lib’ is unspecified)\n",
            "\n",
            "also installing the dependency ‘proxy’\n",
            "\n",
            "\n",
            "Installing package into ‘/usr/local/lib/R/site-library’\n",
            "(as ‘lib’ is unspecified)\n",
            "\n",
            "also installing the dependencies ‘rootSolve’, ‘lmom’, ‘mvtnorm’, ‘expm’, ‘Exact’, ‘gld’\n",
            "\n",
            "\n",
            "Installing package into ‘/usr/local/lib/R/site-library’\n",
            "(as ‘lib’ is unspecified)\n",
            "\n",
            "also installing the dependencies ‘checkmate’, ‘gridExtra’, ‘htmlTable’, ‘viridis’, ‘Formula’\n",
            "\n",
            "\n"
          ]
        }
      ]
    },
    {
      "cell_type": "code",
      "source": [
        "require(e1071)\n",
        "require(DescTools)\n",
        "require(Hmisc)\n",
        "require(dplyr)\n"
      ],
      "metadata": {
        "id": "-oKeOBXkptI6",
        "colab": {
          "base_uri": "https://localhost:8080/"
        },
        "outputId": "9000d68b-cf07-4b84-db3d-f88caad0933e"
      },
      "execution_count": null,
      "outputs": [
        {
          "output_type": "stream",
          "name": "stderr",
          "text": [
            "Loading required package: e1071\n",
            "\n",
            "Loading required package: DescTools\n",
            "\n",
            "Loading required package: Hmisc\n",
            "\n",
            "\n",
            "Attaching package: ‘Hmisc’\n",
            "\n",
            "\n",
            "The following objects are masked from ‘package:DescTools’:\n",
            "\n",
            "    %nin%, Label, Mean, Quantile\n",
            "\n",
            "\n",
            "The following object is masked from ‘package:e1071’:\n",
            "\n",
            "    impute\n",
            "\n",
            "\n",
            "The following objects are masked from ‘package:base’:\n",
            "\n",
            "    format.pval, units\n",
            "\n",
            "\n",
            "Loading required package: dplyr\n",
            "\n",
            "\n",
            "Attaching package: ‘dplyr’\n",
            "\n",
            "\n",
            "The following objects are masked from ‘package:Hmisc’:\n",
            "\n",
            "    src, summarize\n",
            "\n",
            "\n",
            "The following objects are masked from ‘package:stats’:\n",
            "\n",
            "    filter, lag\n",
            "\n",
            "\n",
            "The following objects are masked from ‘package:base’:\n",
            "\n",
            "    intersect, setdiff, setequal, union\n",
            "\n",
            "\n"
          ]
        }
      ]
    },
    {
      "cell_type": "code",
      "source": [
        "#Amostra Empresa A\n",
        "a = c(2000,\n",
        "      3000,\n",
        "      4000,\n",
        "      9000)\n",
        "a"
      ],
      "metadata": {
        "id": "x2pVWfwfqIGu",
        "colab": {
          "base_uri": "https://localhost:8080/",
          "height": 34
        },
        "outputId": "a0c6ac7d-2d06-4a6f-fcc4-db013cd3f390"
      },
      "execution_count": null,
      "outputs": [
        {
          "output_type": "display_data",
          "data": {
            "text/html": [
              "<style>\n",
              ".list-inline {list-style: none; margin:0; padding: 0}\n",
              ".list-inline>li {display: inline-block}\n",
              ".list-inline>li:not(:last-child)::after {content: \"\\00b7\"; padding: 0 .5ex}\n",
              "</style>\n",
              "<ol class=list-inline><li>2000</li><li>3000</li><li>4000</li><li>9000</li></ol>\n"
            ],
            "text/markdown": "1. 2000\n2. 3000\n3. 4000\n4. 9000\n\n\n",
            "text/latex": "\\begin{enumerate*}\n\\item 2000\n\\item 3000\n\\item 4000\n\\item 9000\n\\end{enumerate*}\n",
            "text/plain": [
              "[1] 2000 3000 4000 9000"
            ]
          },
          "metadata": {}
        }
      ]
    },
    {
      "cell_type": "code",
      "source": [
        "desvio1=2000-4500\n",
        "desvio2=3000-4500\n",
        "desvio3=4000-4500\n",
        "desvio4=9000-4500\n",
        "soma_desvios_media=sum(desvio1,desvio2,desvio3,desvio4)\n",
        "soma_desvios_media"
      ],
      "metadata": {
        "id": "4STjq75RqPPh",
        "colab": {
          "base_uri": "https://localhost:8080/",
          "height": 34
        },
        "outputId": "99a10fee-dc1d-455a-914d-2f8b0ad02d2f"
      },
      "execution_count": null,
      "outputs": [
        {
          "output_type": "display_data",
          "data": {
            "text/html": [
              "0"
            ],
            "text/markdown": "0",
            "text/latex": "0",
            "text/plain": [
              "[1] 0"
            ]
          },
          "metadata": {}
        }
      ]
    },
    {
      "cell_type": "code",
      "source": [
        "#média\n",
        "media_a = mean(a)\n",
        "media_a\n"
      ],
      "metadata": {
        "id": "uL781D7aqS_o",
        "colab": {
          "base_uri": "https://localhost:8080/",
          "height": 34
        },
        "outputId": "c450e23b-cdcd-4c98-d8a1-31446e61020d"
      },
      "execution_count": null,
      "outputs": [
        {
          "output_type": "display_data",
          "data": {
            "text/html": [
              "4500"
            ],
            "text/markdown": "4500",
            "text/latex": "4500",
            "text/plain": [
              "[1] 4500"
            ]
          },
          "metadata": {}
        }
      ]
    },
    {
      "cell_type": "code",
      "source": [
        "#mediana\n",
        "mediana_a=median(a)\n",
        "mediana_a"
      ],
      "metadata": {
        "id": "bN-pbrmhqU94",
        "colab": {
          "base_uri": "https://localhost:8080/",
          "height": 34
        },
        "outputId": "67e574a6-6be0-4bc5-bf7e-b4ed19479a37"
      },
      "execution_count": null,
      "outputs": [
        {
          "output_type": "display_data",
          "data": {
            "text/html": [
              "3500"
            ],
            "text/markdown": "3500",
            "text/latex": "3500",
            "text/plain": [
              "[1] 3500"
            ]
          },
          "metadata": {}
        }
      ]
    },
    {
      "cell_type": "code",
      "source": [
        "#Calculando a moda\n",
        "moda_a=Mode(a)\n",
        "moda_a\n",
        "#Amodal"
      ],
      "metadata": {
        "id": "tUp1lwqyqg08",
        "colab": {
          "base_uri": "https://localhost:8080/",
          "height": 34
        },
        "outputId": "91a5ca47-9f45-401b-e35f-858c95abc5f0"
      },
      "execution_count": null,
      "outputs": [
        {
          "output_type": "display_data",
          "data": {
            "text/html": [
              "&lt;NA&gt;"
            ],
            "text/markdown": "&lt;NA&gt;",
            "text/latex": "<NA>",
            "text/plain": [
              "[1] NA\n",
              "attr(,\"freq\")\n",
              "[1] NA"
            ]
          },
          "metadata": {}
        }
      ]
    },
    {
      "cell_type": "code",
      "source": [
        "#Medidas resumo:Estatísticas descritivas\n",
        "summary(a)"
      ],
      "metadata": {
        "id": "McjFCTybqtWI",
        "colab": {
          "base_uri": "https://localhost:8080/",
          "height": 53
        },
        "outputId": "70afde81-90e4-4d62-e76a-7ff163f09694"
      },
      "execution_count": null,
      "outputs": [
        {
          "output_type": "display_data",
          "data": {
            "text/plain": [
              "   Min. 1st Qu.  Median    Mean 3rd Qu.    Max. \n",
              "   2000    2750    3500    4500    5250    9000 "
            ]
          },
          "metadata": {}
        }
      ]
    },
    {
      "cell_type": "code",
      "source": [
        "#Medidas resumo:Estatísticas descritivas\n",
        "describe(a)"
      ],
      "metadata": {
        "id": "OLIJH_49q768",
        "colab": {
          "base_uri": "https://localhost:8080/",
          "height": 180
        },
        "outputId": "5fb39e4c-1a6b-4233-bd2a-f15e2df27b19"
      },
      "execution_count": null,
      "outputs": [
        {
          "output_type": "display_data",
          "data": {
            "text/plain": [
              "a \n",
              "       n  missing distinct     Info     Mean      Gmd \n",
              "       4        0        4        1     4500     3667 \n",
              "                              \n",
              "Value      2000 3000 4000 9000\n",
              "Frequency     1    1    1    1\n",
              "Proportion 0.25 0.25 0.25 0.25\n",
              "\n",
              "For the frequency table, variable is rounded to the nearest 0"
            ]
          },
          "metadata": {}
        }
      ]
    },
    {
      "cell_type": "code",
      "source": [
        "#Histograma com as frequências simples\n",
        "hist(a)\n"
      ],
      "metadata": {
        "id": "V40ZLYNyrBvX",
        "colab": {
          "base_uri": "https://localhost:8080/",
          "height": 437
        },
        "outputId": "052d6d0d-09a0-4513-f33f-6a547db60828"
      },
      "execution_count": null,
      "outputs": [
        {
          "output_type": "display_data",
          "data": {
            "text/plain": [
              "Plot with title “Histogram of a”"
            ],
            "image/png": "[encoded data removed]"
          },
          "metadata": {
            "image/png": {
              "width": 420,
              "height": 420
            }
          }
        }
      ]
    },
    {
      "cell_type": "code",
      "source": [
        "#Histograma com as densidades\n",
        "hist(a,probability = T)\n"
      ],
      "metadata": {
        "id": "q_KE-jSCrFV-",
        "colab": {
          "base_uri": "https://localhost:8080/",
          "height": 437
        },
        "outputId": "3a434e44-8cf8-4381-a95b-31ca8481dfdd"
      },
      "execution_count": null,
      "outputs": [
        {
          "output_type": "display_data",
          "data": {
            "text/plain": [
              "Plot with title “Histogram of a”"
            ],
            "image/png": "[encoded data removed]"
          },
          "metadata": {
            "image/png": {
              "width": 420,
              "height": 420
            }
          }
        }
      ]
    },
    {
      "cell_type": "markdown",
      "source": [
        "Histograma suavizado"
      ],
      "metadata": {
        "id": "UxdvXGyifRbV"
      }
    },
    {
      "cell_type": "code",
      "source": [
        "#Histograma suavizado com as densidades\n",
        "hist(a,probability = T)\n",
        "lines(density(a))"
      ],
      "metadata": {
        "colab": {
          "base_uri": "https://localhost:8080/",
          "height": 437
        },
        "id": "vezYVqb-fPww",
        "outputId": "bf1046a4-b483-4fef-e451-688fbc9028b2"
      },
      "execution_count": null,
      "outputs": [
        {
          "output_type": "display_data",
          "data": {
            "text/plain": [
              "Plot with title “Histogram of a”"
            ],
            "image/png": "[encoded data removed]"
          },
          "metadata": {
            "image/png": {
              "width": 420,
              "height": 420
            }
          }
        }
      ]
    },
    {
      "cell_type": "code",
      "source": [
        "#Coeficiente de assimetria de pearson\n",
        "assimetria_a = skewness(a)\n",
        "assimetria_a"
      ],
      "metadata": {
        "id": "IVmgkoKarJ8j",
        "colab": {
          "base_uri": "https://localhost:8080/",
          "height": 34
        },
        "outputId": "db45a706-1871-4146-b899-5f832aa04a33"
      },
      "execution_count": null,
      "outputs": [
        {
          "output_type": "display_data",
          "data": {
            "text/html": [
              "0.598904243599044"
            ],
            "text/markdown": "0.598904243599044",
            "text/latex": "0.598904243599044",
            "text/plain": [
              "[1] 0.5989042"
            ]
          },
          "metadata": {}
        }
      ]
    },
    {
      "cell_type": "code",
      "source": [
        "#Coeficiente de curtose de pearson\n",
        "curtose_a=kurtosis(a)\n",
        "curtose_a"
      ],
      "metadata": {
        "id": "BStua61_rLsV",
        "colab": {
          "base_uri": "https://localhost:8080/",
          "height": 34
        },
        "outputId": "2ce65be3-50d2-476d-bea2-527347be7ac4"
      },
      "execution_count": null,
      "outputs": [
        {
          "output_type": "display_data",
          "data": {
            "text/html": [
              "-1.78470570749108"
            ],
            "text/markdown": "-1.78470570749108",
            "text/latex": "-1.78470570749108",
            "text/plain": [
              "[1] -1.784706"
            ]
          },
          "metadata": {}
        }
      ]
    },
    {
      "cell_type": "code",
      "source": [
        "#Consolidando as informações\n",
        "dados_a_consolidados = data.frame(\"moda\"=moda_a,\n",
        "                                \"mediana\"=mediana_a,\n",
        "                                \"media\"=media_a,\n",
        "                                \"assimetria\"=assimetria_a,\n",
        "                                \"curtose\"=curtose_a)\n",
        "dados_a_consolidados"
      ],
      "metadata": {
        "id": "xvmPopgprNmW",
        "colab": {
          "base_uri": "https://localhost:8080/",
          "height": 129
        },
        "outputId": "1d5bbcf8-bf22-48fa-c853-9fb73b9b8c34"
      },
      "execution_count": null,
      "outputs": [
        {
          "output_type": "display_data",
          "data": {
            "text/html": [
              "<table class=\"dataframe\">\n",
              "<caption>A data.frame: 1 × 5</caption>\n",
              "<thead>\n",
              "\t<tr><th scope=col>moda</th><th scope=col>mediana</th><th scope=col>media</th><th scope=col>assimetria</th><th scope=col>curtose</th></tr>\n",
              "\t<tr><th scope=col>&lt;dbl&gt;</th><th scope=col>&lt;dbl&gt;</th><th scope=col>&lt;dbl&gt;</th><th scope=col>&lt;dbl&gt;</th><th scope=col>&lt;dbl&gt;</th></tr>\n",
              "</thead>\n",
              "<tbody>\n",
              "\t<tr><td>NA</td><td>3500</td><td>4500</td><td>0.5989042</td><td>-1.784706</td></tr>\n",
              "</tbody>\n",
              "</table>\n"
            ],
            "text/markdown": "\nA data.frame: 1 × 5\n\n| moda &lt;dbl&gt; | mediana &lt;dbl&gt; | media &lt;dbl&gt; | assimetria &lt;dbl&gt; | curtose &lt;dbl&gt; |\n|---|---|---|---|---|\n| NA | 3500 | 4500 | 0.5989042 | -1.784706 |\n\n",
            "text/latex": "A data.frame: 1 × 5\n\\begin{tabular}{lllll}\n moda & mediana & media & assimetria & curtose\\\\\n <dbl> & <dbl> & <dbl> & <dbl> & <dbl>\\\\\n\\hline\n\t NA & 3500 & 4500 & 0.5989042 & -1.784706\\\\\n\\end{tabular}\n",
            "text/plain": [
              "  moda mediana media assimetria curtose  \n",
              "1 NA   3500    4500  0.5989042  -1.784706"
            ]
          },
          "metadata": {}
        }
      ]
    },
    {
      "cell_type": "markdown",
      "source": [],
      "metadata": {
        "id": "3mHHungisMAB"
      }
    },
    {
      "cell_type": "code",
      "source": [
        "#pelo R, temos que se\n",
        "\n",
        "#k>0, leptocúrtica\n",
        "#k=0, Mesocúrtica\n",
        "#k<0, Platicúrtica"
      ],
      "metadata": {
        "id": "jgj47ONyra5O"
      },
      "execution_count": null,
      "outputs": []
    },
    {
      "cell_type": "code",
      "source": [
        "#Amostra Empresa B\n",
        "b=c(2000,3000,3000,3000,3000,3000,4000,7000,9000)\n",
        "b"
      ],
      "metadata": {
        "id": "qoN5q5uqrb8D",
        "colab": {
          "base_uri": "https://localhost:8080/",
          "height": 34
        },
        "outputId": "bdbd1aca-11ef-4a6b-91a7-55ffbbcf5f9d"
      },
      "execution_count": null,
      "outputs": [
        {
          "output_type": "display_data",
          "data": {
            "text/html": [
              "<style>\n",
              ".list-inline {list-style: none; margin:0; padding: 0}\n",
              ".list-inline>li {display: inline-block}\n",
              ".list-inline>li:not(:last-child)::after {content: \"\\00b7\"; padding: 0 .5ex}\n",
              "</style>\n",
              "<ol class=list-inline><li>2000</li><li>3000</li><li>3000</li><li>3000</li><li>3000</li><li>3000</li><li>4000</li><li>7000</li><li>9000</li></ol>\n"
            ],
            "text/markdown": "1. 2000\n2. 3000\n3. 3000\n4. 3000\n5. 3000\n6. 3000\n7. 4000\n8. 7000\n9. 9000\n\n\n",
            "text/latex": "\\begin{enumerate*}\n\\item 2000\n\\item 3000\n\\item 3000\n\\item 3000\n\\item 3000\n\\item 3000\n\\item 4000\n\\item 7000\n\\item 9000\n\\end{enumerate*}\n",
            "text/plain": [
              "[1] 2000 3000 3000 3000 3000 3000 4000 7000 9000"
            ]
          },
          "metadata": {}
        }
      ]
    },
    {
      "cell_type": "code",
      "source": [
        "#média\n",
        "media_b=mean(b)\n",
        "media_b"
      ],
      "metadata": {
        "id": "H5Jc6hCFrx9Y",
        "colab": {
          "base_uri": "https://localhost:8080/",
          "height": 34
        },
        "outputId": "4b6ce213-cda6-48f2-8da0-5579aa558568"
      },
      "execution_count": null,
      "outputs": [
        {
          "output_type": "display_data",
          "data": {
            "text/html": [
              "4111.11111111111"
            ],
            "text/markdown": "4111.11111111111",
            "text/latex": "4111.11111111111",
            "text/plain": [
              "[1] 4111.111"
            ]
          },
          "metadata": {}
        }
      ]
    },
    {
      "cell_type": "code",
      "source": [
        "#mediana\n",
        "mediana_b=median(b)\n",
        "mediana_b"
      ],
      "metadata": {
        "id": "XoN3M4PzrzdI",
        "colab": {
          "base_uri": "https://localhost:8080/",
          "height": 34
        },
        "outputId": "c332eff2-021b-4f8c-d6c6-e34af3caca6b"
      },
      "execution_count": null,
      "outputs": [
        {
          "output_type": "display_data",
          "data": {
            "text/html": [
              "3000"
            ],
            "text/markdown": "3000",
            "text/latex": "3000",
            "text/plain": [
              "[1] 3000"
            ]
          },
          "metadata": {}
        }
      ]
    },
    {
      "cell_type": "code",
      "source": [
        "#moda\n",
        "moda_b=Mode(b)\n",
        "moda_b"
      ],
      "metadata": {
        "id": "ebHjI4hrr2Ps",
        "colab": {
          "base_uri": "https://localhost:8080/",
          "height": 34
        },
        "outputId": "a3d49ab9-aa4d-4bd7-f774-f79d7ac7ec60"
      },
      "execution_count": null,
      "outputs": [
        {
          "output_type": "display_data",
          "data": {
            "text/html": [
              "3000"
            ],
            "text/markdown": "3000",
            "text/latex": "3000",
            "text/plain": [
              "[1] 3000\n",
              "attr(,\"freq\")\n",
              "[1] 5"
            ]
          },
          "metadata": {}
        }
      ]
    },
    {
      "cell_type": "code",
      "source": [
        "#Histograma com as frequências simples\n",
        "hist(b)"
      ],
      "metadata": {
        "id": "CWedW4S5r34L",
        "colab": {
          "base_uri": "https://localhost:8080/",
          "height": 437
        },
        "outputId": "5d2355ef-5835-45bb-cf5c-e50fc5d8b048"
      },
      "execution_count": null,
      "outputs": [
        {
          "output_type": "display_data",
          "data": {
            "text/plain": [
              "Plot with title “Histogram of b”"
            ],
            "image/png": "[encoded data removed]"
          },
          "metadata": {
            "image/png": {
              "width": 420,
              "height": 420
            }
          }
        }
      ]
    },
    {
      "cell_type": "code",
      "source": [
        "#Histograma com as densidades\n",
        "hist(b,probability = T)"
      ],
      "metadata": {
        "id": "2AHkS72ar5jw"
      },
      "execution_count": null,
      "outputs": []
    },
    {
      "cell_type": "code",
      "source": [
        "#Histograma suavizado com as densidades\n",
        "hist(b,probability = T)\n",
        "lines(density(b))"
      ],
      "metadata": {
        "colab": {
          "base_uri": "https://localhost:8080/",
          "height": 437
        },
        "id": "i_3ayXigfr0q",
        "outputId": "6608b05e-bfdb-4ce1-af06-1e674517c6e2"
      },
      "execution_count": null,
      "outputs": [
        {
          "output_type": "display_data",
          "data": {
            "text/plain": [
              "Plot with title “Histogram of b”"
            ],
            "image/png": "[encoded data removed]"
          },
          "metadata": {
            "image/png": {
              "width": 420,
              "height": 420
            }
          }
        }
      ]
    },
    {
      "cell_type": "code",
      "source": [
        "#Coeficiente de assimetria de pearson\n",
        "assimetria_b=skewness(b)\n",
        "assimetria_b"
      ],
      "metadata": {
        "id": "Jn7NX4U1r8MW",
        "colab": {
          "base_uri": "https://localhost:8080/",
          "height": 34
        },
        "outputId": "72b88ba7-1ca4-4954-a364-61d419a232f8"
      },
      "execution_count": null,
      "outputs": [
        {
          "output_type": "display_data",
          "data": {
            "text/html": [
              "1.11612190866426"
            ],
            "text/markdown": "1.11612190866426",
            "text/latex": "1.11612190866426",
            "text/plain": [
              "[1] 1.116122"
            ]
          },
          "metadata": {}
        }
      ]
    },
    {
      "cell_type": "code",
      "source": [
        "#Coeficiente de curtose de pearson\n",
        "curtose_b=kurtosis(b)\n",
        "curtose_b"
      ],
      "metadata": {
        "id": "3kmlZ9lrr-gk",
        "colab": {
          "base_uri": "https://localhost:8080/",
          "height": 34
        },
        "outputId": "1eaa6ea6-5647-49b9-f5de-9c11e82fd465"
      },
      "execution_count": null,
      "outputs": [
        {
          "output_type": "display_data",
          "data": {
            "text/html": [
              "-0.416036025824209"
            ],
            "text/markdown": "-0.416036025824209",
            "text/latex": "-0.416036025824209",
            "text/plain": [
              "[1] -0.416036"
            ]
          },
          "metadata": {}
        }
      ]
    },
    {
      "cell_type": "code",
      "source": [
        "#Estatísticas resumo\n",
        "summary(b)"
      ],
      "metadata": {
        "id": "THddt5GesA2i",
        "colab": {
          "base_uri": "https://localhost:8080/",
          "height": 53
        },
        "outputId": "32df02df-6dcf-4458-eac3-442a25a21528"
      },
      "execution_count": null,
      "outputs": [
        {
          "output_type": "display_data",
          "data": {
            "text/plain": [
              "   Min. 1st Qu.  Median    Mean 3rd Qu.    Max. \n",
              "   2000    3000    3000    4111    4000    9000 "
            ]
          },
          "metadata": {}
        }
      ]
    },
    {
      "cell_type": "code",
      "source": [
        "dados_b_consolidados = data.frame(\"moda\"=moda_b,\n",
        "                          \"mediana\"=mediana_b,\n",
        "                          \"media\"=media_b,\n",
        "                          \"assimetria\"=assimetria_b,\n",
        "                          \"curtose\"=curtose_b)\n",
        "dados_b_consolidados"
      ],
      "metadata": {
        "id": "fGNBV6A4sFr2",
        "colab": {
          "base_uri": "https://localhost:8080/",
          "height": 129
        },
        "outputId": "8cbffd74-32c4-48cb-8723-9d4e1331d94b"
      },
      "execution_count": null,
      "outputs": [
        {
          "output_type": "display_data",
          "data": {
            "text/html": [
              "<table class=\"dataframe\">\n",
              "<caption>A data.frame: 1 × 5</caption>\n",
              "<thead>\n",
              "\t<tr><th scope=col>moda</th><th scope=col>mediana</th><th scope=col>media</th><th scope=col>assimetria</th><th scope=col>curtose</th></tr>\n",
              "\t<tr><th scope=col>&lt;dbl&gt;</th><th scope=col>&lt;dbl&gt;</th><th scope=col>&lt;dbl&gt;</th><th scope=col>&lt;dbl&gt;</th><th scope=col>&lt;dbl&gt;</th></tr>\n",
              "</thead>\n",
              "<tbody>\n",
              "\t<tr><td>3000</td><td>3000</td><td>4111.111</td><td>1.116122</td><td>-0.416036</td></tr>\n",
              "</tbody>\n",
              "</table>\n"
            ],
            "text/markdown": "\nA data.frame: 1 × 5\n\n| moda &lt;dbl&gt; | mediana &lt;dbl&gt; | media &lt;dbl&gt; | assimetria &lt;dbl&gt; | curtose &lt;dbl&gt; |\n|---|---|---|---|---|\n| 3000 | 3000 | 4111.111 | 1.116122 | -0.416036 |\n\n",
            "text/latex": "A data.frame: 1 × 5\n\\begin{tabular}{lllll}\n moda & mediana & media & assimetria & curtose\\\\\n <dbl> & <dbl> & <dbl> & <dbl> & <dbl>\\\\\n\\hline\n\t 3000 & 3000 & 4111.111 & 1.116122 & -0.416036\\\\\n\\end{tabular}\n",
            "text/plain": [
              "  moda mediana media    assimetria curtose  \n",
              "1 3000 3000    4111.111 1.116122   -0.416036"
            ]
          },
          "metadata": {}
        }
      ]
    },
    {
      "cell_type": "code",
      "source": [
        "#Amostra Empresa C\n",
        "c=c(2000,3000,4000,6000, 7000, 7000, 8000,  9000)\n",
        "c"
      ],
      "metadata": {
        "id": "aXmuk6fetx6L",
        "colab": {
          "base_uri": "https://localhost:8080/",
          "height": 34
        },
        "outputId": "867e884f-7a04-4a42-8ad4-1b2183d75223"
      },
      "execution_count": null,
      "outputs": [
        {
          "output_type": "display_data",
          "data": {
            "text/html": [
              "<style>\n",
              ".list-inline {list-style: none; margin:0; padding: 0}\n",
              ".list-inline>li {display: inline-block}\n",
              ".list-inline>li:not(:last-child)::after {content: \"\\00b7\"; padding: 0 .5ex}\n",
              "</style>\n",
              "<ol class=list-inline><li>2000</li><li>3000</li><li>4000</li><li>6000</li><li>7000</li><li>7000</li><li>8000</li><li>9000</li></ol>\n"
            ],
            "text/markdown": "1. 2000\n2. 3000\n3. 4000\n4. 6000\n5. 7000\n6. 7000\n7. 8000\n8. 9000\n\n\n",
            "text/latex": "\\begin{enumerate*}\n\\item 2000\n\\item 3000\n\\item 4000\n\\item 6000\n\\item 7000\n\\item 7000\n\\item 8000\n\\item 9000\n\\end{enumerate*}\n",
            "text/plain": [
              "[1] 2000 3000 4000 6000 7000 7000 8000 9000"
            ]
          },
          "metadata": {}
        }
      ]
    },
    {
      "cell_type": "code",
      "source": [
        "#média\n",
        "media_c=mean(c)\n",
        "media_c"
      ],
      "metadata": {
        "id": "IXXdvC5puqtf",
        "colab": {
          "base_uri": "https://localhost:8080/",
          "height": 34
        },
        "outputId": "69d28090-ff68-4b4e-ba15-6d0dcc3828b8"
      },
      "execution_count": null,
      "outputs": [
        {
          "output_type": "display_data",
          "data": {
            "text/html": [
              "5750"
            ],
            "text/markdown": "5750",
            "text/latex": "5750",
            "text/plain": [
              "[1] 5750"
            ]
          },
          "metadata": {}
        }
      ]
    },
    {
      "cell_type": "code",
      "source": [
        "#mediana\n",
        "mediana_c=median(c)\n",
        "mediana_c"
      ],
      "metadata": {
        "id": "zqLpipKFuuYi",
        "colab": {
          "base_uri": "https://localhost:8080/",
          "height": 34
        },
        "outputId": "790c9f6d-bd0d-456b-c18a-c8b85423bf27"
      },
      "execution_count": null,
      "outputs": [
        {
          "output_type": "display_data",
          "data": {
            "text/html": [
              "6500"
            ],
            "text/markdown": "6500",
            "text/latex": "6500",
            "text/plain": [
              "[1] 6500"
            ]
          },
          "metadata": {}
        }
      ]
    },
    {
      "cell_type": "code",
      "source": [
        "#moda\n",
        "moda_c=Mode(c)\n",
        "moda_c"
      ],
      "metadata": {
        "id": "lRaz5Vw0uyFu",
        "colab": {
          "base_uri": "https://localhost:8080/",
          "height": 34
        },
        "outputId": "92ac0cd3-b567-42c8-f7e6-b457fc14df04"
      },
      "execution_count": null,
      "outputs": [
        {
          "output_type": "display_data",
          "data": {
            "text/html": [
              "7000"
            ],
            "text/markdown": "7000",
            "text/latex": "7000",
            "text/plain": [
              "[1] 7000\n",
              "attr(,\"freq\")\n",
              "[1] 2"
            ]
          },
          "metadata": {}
        }
      ]
    },
    {
      "cell_type": "code",
      "source": [
        "#Histograma com as frequências simples\n",
        "hist(c)"
      ],
      "metadata": {
        "id": "ZmG9Ha3su7rr",
        "colab": {
          "base_uri": "https://localhost:8080/",
          "height": 437
        },
        "outputId": "69be1139-2efa-4402-cb5d-f2a69253dd05"
      },
      "execution_count": null,
      "outputs": [
        {
          "output_type": "display_data",
          "data": {
            "text/plain": [
              "Plot with title “Histogram of c”"
            ],
            "image/png": "[encoded data removed]"
          },
          "metadata": {
            "image/png": {
              "width": 420,
              "height": 420
            }
          }
        }
      ]
    },
    {
      "cell_type": "code",
      "source": [
        "#Histograma com as densidades\n",
        "hist(c,probability = T)"
      ],
      "metadata": {
        "id": "voYSebEpu9fb"
      },
      "execution_count": null,
      "outputs": []
    },
    {
      "cell_type": "code",
      "source": [
        "#Histograma suavizado com as densidades\n",
        "hist(c,probability = T)\n",
        "lines(density(c))"
      ],
      "metadata": {
        "colab": {
          "base_uri": "https://localhost:8080/",
          "height": 437
        },
        "id": "wKEp6Wu8fwCT",
        "outputId": "0b7aab9f-5f95-4c37-e026-5d6ab54591be"
      },
      "execution_count": null,
      "outputs": [
        {
          "output_type": "display_data",
          "data": {
            "text/plain": [
              "Plot with title “Histogram of c”"
            ],
            "image/png": "[encoded data removed]"
          },
          "metadata": {
            "image/png": {
              "width": 420,
              "height": 420
            }
          }
        }
      ]
    },
    {
      "cell_type": "code",
      "source": [
        "#Coeficiente de assimetria de pearson\n",
        "assimetria_c=skewness(c)\n",
        "assimetria_c"
      ],
      "metadata": {
        "id": "GK9bDMPPu___",
        "colab": {
          "base_uri": "https://localhost:8080/",
          "height": 34
        },
        "outputId": "ee905139-a105-4efd-eb6f-118ca720d748"
      },
      "execution_count": null,
      "outputs": [
        {
          "output_type": "display_data",
          "data": {
            "text/html": [
              "-0.236020136944408"
            ],
            "text/markdown": "-0.236020136944408",
            "text/latex": "-0.236020136944408",
            "text/plain": [
              "[1] -0.2360201"
            ]
          },
          "metadata": {}
        }
      ]
    },
    {
      "cell_type": "code",
      "source": [
        "#Coeficiente de curtose de pearson\n",
        "curtose_c=kurtosis(c)\n",
        "curtose_c"
      ],
      "metadata": {
        "id": "lDhICkCavEKf",
        "colab": {
          "base_uri": "https://localhost:8080/",
          "height": 34
        },
        "outputId": "35337599-e41b-4f6b-a7c7-c981db5184cf"
      },
      "execution_count": null,
      "outputs": [
        {
          "output_type": "display_data",
          "data": {
            "text/html": [
              "-1.68450876932224"
            ],
            "text/markdown": "-1.68450876932224",
            "text/latex": "-1.68450876932224",
            "text/plain": [
              "[1] -1.684509"
            ]
          },
          "metadata": {}
        }
      ]
    },
    {
      "cell_type": "code",
      "source": [
        "#Estatísticas Resumo\n",
        "summary(c)"
      ],
      "metadata": {
        "id": "w5SPVI4dvG97",
        "colab": {
          "base_uri": "https://localhost:8080/",
          "height": 53
        },
        "outputId": "827757e4-c77b-4e19-ea40-3e65008f28f0"
      },
      "execution_count": null,
      "outputs": [
        {
          "output_type": "display_data",
          "data": {
            "text/plain": [
              "   Min. 1st Qu.  Median    Mean 3rd Qu.    Max. \n",
              "   2000    3750    6500    5750    7250    9000 "
            ]
          },
          "metadata": {}
        }
      ]
    },
    {
      "cell_type": "code",
      "source": [
        "dados_c_consolidados = data.frame(\"moda\"=moda_c,\n",
        "                       \"mediana\"=mediana_c,\n",
        "                       \"media\"=media_c,\n",
        "                       \"assimetria\"=assimetria_c,\n",
        "                       \"curtose\"=curtose_c)\n",
        "dados_c_consolidados"
      ],
      "metadata": {
        "id": "fVKG7EOjvMbj",
        "colab": {
          "base_uri": "https://localhost:8080/",
          "height": 129
        },
        "outputId": "bb450d2e-4dc7-4dda-e16c-f4ba648f85c4"
      },
      "execution_count": null,
      "outputs": [
        {
          "output_type": "display_data",
          "data": {
            "text/html": [
              "<table class=\"dataframe\">\n",
              "<caption>A data.frame: 1 × 5</caption>\n",
              "<thead>\n",
              "\t<tr><th scope=col>moda</th><th scope=col>mediana</th><th scope=col>media</th><th scope=col>assimetria</th><th scope=col>curtose</th></tr>\n",
              "\t<tr><th scope=col>&lt;dbl&gt;</th><th scope=col>&lt;dbl&gt;</th><th scope=col>&lt;dbl&gt;</th><th scope=col>&lt;dbl&gt;</th><th scope=col>&lt;dbl&gt;</th></tr>\n",
              "</thead>\n",
              "<tbody>\n",
              "\t<tr><td>7000</td><td>6500</td><td>5750</td><td>-0.2360201</td><td>-1.684509</td></tr>\n",
              "</tbody>\n",
              "</table>\n"
            ],
            "text/markdown": "\nA data.frame: 1 × 5\n\n| moda &lt;dbl&gt; | mediana &lt;dbl&gt; | media &lt;dbl&gt; | assimetria &lt;dbl&gt; | curtose &lt;dbl&gt; |\n|---|---|---|---|---|\n| 7000 | 6500 | 5750 | -0.2360201 | -1.684509 |\n\n",
            "text/latex": "A data.frame: 1 × 5\n\\begin{tabular}{lllll}\n moda & mediana & media & assimetria & curtose\\\\\n <dbl> & <dbl> & <dbl> & <dbl> & <dbl>\\\\\n\\hline\n\t 7000 & 6500 & 5750 & -0.2360201 & -1.684509\\\\\n\\end{tabular}\n",
            "text/plain": [
              "  moda mediana media assimetria curtose  \n",
              "1 7000 6500    5750  -0.2360201 -1.684509"
            ]
          },
          "metadata": {}
        }
      ]
    },
    {
      "cell_type": "markdown",
      "source": [
        "# Pela Ótica Tidyverse\n"
      ],
      "metadata": {
        "id": "IWjqhU1myEgX"
      }
    },
    {
      "cell_type": "code",
      "source": [
        "#Empresa A\n",
        "a.df=data.frame(a)\n",
        "\n",
        "a.df_resumo = a.df %>% summarise(\n",
        "                               moda_a=Mode(a),\n",
        "                               mediana_a= median(a),\n",
        "                               media_a=mean(a),\n",
        "                               assimetria_a =skewness(a),\n",
        "                               curtose_a=kurtosis(a)\n",
        "                               )\n",
        "a.df_resumo"
      ],
      "metadata": {
        "id": "pMng9ie6x1so",
        "colab": {
          "base_uri": "https://localhost:8080/",
          "height": 129
        },
        "outputId": "a4316621-2907-44a0-b868-2d75ec4eba33"
      },
      "execution_count": null,
      "outputs": [
        {
          "output_type": "display_data",
          "data": {
            "text/html": [
              "<table class=\"dataframe\">\n",
              "<caption>A data.frame: 1 × 5</caption>\n",
              "<thead>\n",
              "\t<tr><th scope=col>moda_a</th><th scope=col>mediana_a</th><th scope=col>media_a</th><th scope=col>assimetria_a</th><th scope=col>curtose_a</th></tr>\n",
              "\t<tr><th scope=col>&lt;dbl&gt;</th><th scope=col>&lt;dbl&gt;</th><th scope=col>&lt;dbl&gt;</th><th scope=col>&lt;dbl&gt;</th><th scope=col>&lt;dbl&gt;</th></tr>\n",
              "</thead>\n",
              "<tbody>\n",
              "\t<tr><td>NA</td><td>3500</td><td>4500</td><td>0.5989042</td><td>-1.784706</td></tr>\n",
              "</tbody>\n",
              "</table>\n"
            ],
            "text/markdown": "\nA data.frame: 1 × 5\n\n| moda_a &lt;dbl&gt; | mediana_a &lt;dbl&gt; | media_a &lt;dbl&gt; | assimetria_a &lt;dbl&gt; | curtose_a &lt;dbl&gt; |\n|---|---|---|---|---|\n| NA | 3500 | 4500 | 0.5989042 | -1.784706 |\n\n",
            "text/latex": "A data.frame: 1 × 5\n\\begin{tabular}{lllll}\n moda\\_a & mediana\\_a & media\\_a & assimetria\\_a & curtose\\_a\\\\\n <dbl> & <dbl> & <dbl> & <dbl> & <dbl>\\\\\n\\hline\n\t NA & 3500 & 4500 & 0.5989042 & -1.784706\\\\\n\\end{tabular}\n",
            "text/plain": [
              "  moda_a mediana_a media_a assimetria_a curtose_a\n",
              "1 NA     3500      4500    0.5989042    -1.784706"
            ]
          },
          "metadata": {}
        }
      ]
    },
    {
      "cell_type": "code",
      "source": [
        "b.df=data.frame(b)\n",
        "\n",
        "#Empresa B\n",
        "b.df_resumo = b.df%>% summarise(\n",
        "                              moda_b=Mode(b),\n",
        "                              mediana_b= median(b),\n",
        "                              media_b=mean(b),\n",
        "                              assimetria_b =skewness(b),\n",
        "                              curtose_b=kurtosis(b)\n",
        "                              )\n",
        "b.df_resumo"
      ],
      "metadata": {
        "id": "sYaNA8xgyfAc",
        "colab": {
          "base_uri": "https://localhost:8080/",
          "height": 129
        },
        "outputId": "db0ad4ea-6520-4ab7-b618-dde8e1bf019a"
      },
      "execution_count": null,
      "outputs": [
        {
          "output_type": "display_data",
          "data": {
            "text/html": [
              "<table class=\"dataframe\">\n",
              "<caption>A data.frame: 1 × 5</caption>\n",
              "<thead>\n",
              "\t<tr><th scope=col>moda_b</th><th scope=col>mediana_b</th><th scope=col>media_b</th><th scope=col>assimetria_b</th><th scope=col>curtose_b</th></tr>\n",
              "\t<tr><th scope=col>&lt;dbl&gt;</th><th scope=col>&lt;dbl&gt;</th><th scope=col>&lt;dbl&gt;</th><th scope=col>&lt;dbl&gt;</th><th scope=col>&lt;dbl&gt;</th></tr>\n",
              "</thead>\n",
              "<tbody>\n",
              "\t<tr><td>3000</td><td>3000</td><td>4111.111</td><td>1.116122</td><td>-0.416036</td></tr>\n",
              "</tbody>\n",
              "</table>\n"
            ],
            "text/markdown": "\nA data.frame: 1 × 5\n\n| moda_b &lt;dbl&gt; | mediana_b &lt;dbl&gt; | media_b &lt;dbl&gt; | assimetria_b &lt;dbl&gt; | curtose_b &lt;dbl&gt; |\n|---|---|---|---|---|\n| 3000 | 3000 | 4111.111 | 1.116122 | -0.416036 |\n\n",
            "text/latex": "A data.frame: 1 × 5\n\\begin{tabular}{lllll}\n moda\\_b & mediana\\_b & media\\_b & assimetria\\_b & curtose\\_b\\\\\n <dbl> & <dbl> & <dbl> & <dbl> & <dbl>\\\\\n\\hline\n\t 3000 & 3000 & 4111.111 & 1.116122 & -0.416036\\\\\n\\end{tabular}\n",
            "text/plain": [
              "  moda_b mediana_b media_b  assimetria_b curtose_b\n",
              "1 3000   3000      4111.111 1.116122     -0.416036"
            ]
          },
          "metadata": {}
        }
      ]
    },
    {
      "cell_type": "code",
      "source": [
        "c.df=data.frame(c)\n",
        "\n",
        "#Empresa C\n",
        "c.df_resumo = c.df %>% summarise( moda_c=Mode(c),\n",
        "                                mediana_c= median(c),\n",
        "                                media_c=mean(c),\n",
        "                                assimetria_c =skewness(c),\n",
        "                                curtose_c=kurtosis(c)\n",
        "                                )\n",
        "c.df_resumo"
      ],
      "metadata": {
        "id": "fCq3vFAyyiOY",
        "colab": {
          "base_uri": "https://localhost:8080/",
          "height": 129
        },
        "outputId": "3481b3ab-619f-4bd6-dbfe-242962aaa735"
      },
      "execution_count": null,
      "outputs": [
        {
          "output_type": "display_data",
          "data": {
            "text/html": [
              "<table class=\"dataframe\">\n",
              "<caption>A data.frame: 1 × 5</caption>\n",
              "<thead>\n",
              "\t<tr><th scope=col>moda_c</th><th scope=col>mediana_c</th><th scope=col>media_c</th><th scope=col>assimetria_c</th><th scope=col>curtose_c</th></tr>\n",
              "\t<tr><th scope=col>&lt;dbl&gt;</th><th scope=col>&lt;dbl&gt;</th><th scope=col>&lt;dbl&gt;</th><th scope=col>&lt;dbl&gt;</th><th scope=col>&lt;dbl&gt;</th></tr>\n",
              "</thead>\n",
              "<tbody>\n",
              "\t<tr><td>7000</td><td>6500</td><td>5750</td><td>-0.2360201</td><td>-1.684509</td></tr>\n",
              "</tbody>\n",
              "</table>\n"
            ],
            "text/markdown": "\nA data.frame: 1 × 5\n\n| moda_c &lt;dbl&gt; | mediana_c &lt;dbl&gt; | media_c &lt;dbl&gt; | assimetria_c &lt;dbl&gt; | curtose_c &lt;dbl&gt; |\n|---|---|---|---|---|\n| 7000 | 6500 | 5750 | -0.2360201 | -1.684509 |\n\n",
            "text/latex": "A data.frame: 1 × 5\n\\begin{tabular}{lllll}\n moda\\_c & mediana\\_c & media\\_c & assimetria\\_c & curtose\\_c\\\\\n <dbl> & <dbl> & <dbl> & <dbl> & <dbl>\\\\\n\\hline\n\t 7000 & 6500 & 5750 & -0.2360201 & -1.684509\\\\\n\\end{tabular}\n",
            "text/plain": [
              "  moda_c mediana_c media_c assimetria_c curtose_c\n",
              "1 7000   6500      5750    -0.2360201   -1.684509"
            ]
          },
          "metadata": {}
        }
      ]
    },
    {
      "cell_type": "code",
      "source": [
        "#Concatena linhas\n",
        "consolidado_empresas = data.frame(a.df_resumo,b.df_resumo,c.df_resumo)\n",
        "consolidado_empresas"
      ],
      "metadata": {
        "id": "rT3idAWOykMq",
        "colab": {
          "base_uri": "https://localhost:8080/",
          "height": 129
        },
        "outputId": "ccf0d633-b720-400b-bc30-fb9d21fb23e1"
      },
      "execution_count": null,
      "outputs": [
        {
          "output_type": "display_data",
          "data": {
            "text/html": [
              "<table class=\"dataframe\">\n",
              "<caption>A data.frame: 1 × 15</caption>\n",
              "<thead>\n",
              "\t<tr><th scope=col>moda_a</th><th scope=col>mediana_a</th><th scope=col>media_a</th><th scope=col>assimetria_a</th><th scope=col>curtose_a</th><th scope=col>moda_b</th><th scope=col>mediana_b</th><th scope=col>media_b</th><th scope=col>assimetria_b</th><th scope=col>curtose_b</th><th scope=col>moda_c</th><th scope=col>mediana_c</th><th scope=col>media_c</th><th scope=col>assimetria_c</th><th scope=col>curtose_c</th></tr>\n",
              "\t<tr><th scope=col>&lt;dbl&gt;</th><th scope=col>&lt;dbl&gt;</th><th scope=col>&lt;dbl&gt;</th><th scope=col>&lt;dbl&gt;</th><th scope=col>&lt;dbl&gt;</th><th scope=col>&lt;dbl&gt;</th><th scope=col>&lt;dbl&gt;</th><th scope=col>&lt;dbl&gt;</th><th scope=col>&lt;dbl&gt;</th><th scope=col>&lt;dbl&gt;</th><th scope=col>&lt;dbl&gt;</th><th scope=col>&lt;dbl&gt;</th><th scope=col>&lt;dbl&gt;</th><th scope=col>&lt;dbl&gt;</th><th scope=col>&lt;dbl&gt;</th></tr>\n",
              "</thead>\n",
              "<tbody>\n",
              "\t<tr><td>NA</td><td>3500</td><td>4500</td><td>0.5989042</td><td>-1.784706</td><td>3000</td><td>3000</td><td>4111.111</td><td>1.116122</td><td>-0.416036</td><td>7000</td><td>6500</td><td>5750</td><td>-0.2360201</td><td>-1.684509</td></tr>\n",
              "</tbody>\n",
              "</table>\n"
            ],
            "text/markdown": "\nA data.frame: 1 × 15\n\n| moda_a &lt;dbl&gt; | mediana_a &lt;dbl&gt; | media_a &lt;dbl&gt; | assimetria_a &lt;dbl&gt; | curtose_a &lt;dbl&gt; | moda_b &lt;dbl&gt; | mediana_b &lt;dbl&gt; | media_b &lt;dbl&gt; | assimetria_b &lt;dbl&gt; | curtose_b &lt;dbl&gt; | moda_c &lt;dbl&gt; | mediana_c &lt;dbl&gt; | media_c &lt;dbl&gt; | assimetria_c &lt;dbl&gt; | curtose_c &lt;dbl&gt; |\n|---|---|---|---|---|---|---|---|---|---|---|---|---|---|---|\n| NA | 3500 | 4500 | 0.5989042 | -1.784706 | 3000 | 3000 | 4111.111 | 1.116122 | -0.416036 | 7000 | 6500 | 5750 | -0.2360201 | -1.684509 |\n\n",
            "text/latex": "A data.frame: 1 × 15\n\\begin{tabular}{lllllllllllllll}\n moda\\_a & mediana\\_a & media\\_a & assimetria\\_a & curtose\\_a & moda\\_b & mediana\\_b & media\\_b & assimetria\\_b & curtose\\_b & moda\\_c & mediana\\_c & media\\_c & assimetria\\_c & curtose\\_c\\\\\n <dbl> & <dbl> & <dbl> & <dbl> & <dbl> & <dbl> & <dbl> & <dbl> & <dbl> & <dbl> & <dbl> & <dbl> & <dbl> & <dbl> & <dbl>\\\\\n\\hline\n\t NA & 3500 & 4500 & 0.5989042 & -1.784706 & 3000 & 3000 & 4111.111 & 1.116122 & -0.416036 & 7000 & 6500 & 5750 & -0.2360201 & -1.684509\\\\\n\\end{tabular}\n",
            "text/plain": [
              "  moda_a mediana_a media_a assimetria_a curtose_a moda_b mediana_b media_b \n",
              "1 NA     3500      4500    0.5989042    -1.784706 3000   3000      4111.111\n",
              "  assimetria_b curtose_b moda_c mediana_c media_c assimetria_c curtose_c\n",
              "1 1.116122     -0.416036 7000   6500      5750    -0.2360201   -1.684509"
            ]
          },
          "metadata": {}
        }
      ]
    },
    {
      "cell_type": "code",
      "source": [
        "#Transpor para concatenar colunas\n",
        "consolidado_empresas = data.frame(t(a.df_resumo),t(b.df_resumo),t(c.df_resumo))\n",
        "consolidado_empresas"
      ],
      "metadata": {
        "id": "zuipCNgFynxk",
        "colab": {
          "base_uri": "https://localhost:8080/",
          "height": 254
        },
        "outputId": "fdae7248-af48-4674-fd93-59d5d7fd3e37"
      },
      "execution_count": null,
      "outputs": [
        {
          "output_type": "display_data",
          "data": {
            "text/html": [
              "<table class=\"dataframe\">\n",
              "<caption>A data.frame: 5 × 3</caption>\n",
              "<thead>\n",
              "\t<tr><th></th><th scope=col>t.a.df_resumo.</th><th scope=col>t.b.df_resumo.</th><th scope=col>t.c.df_resumo.</th></tr>\n",
              "\t<tr><th></th><th scope=col>&lt;dbl&gt;</th><th scope=col>&lt;dbl&gt;</th><th scope=col>&lt;dbl&gt;</th></tr>\n",
              "</thead>\n",
              "<tbody>\n",
              "\t<tr><th scope=row>moda_a</th><td>          NA</td><td>3000.000000</td><td>7000.0000000</td></tr>\n",
              "\t<tr><th scope=row>mediana_a</th><td>3500.0000000</td><td>3000.000000</td><td>6500.0000000</td></tr>\n",
              "\t<tr><th scope=row>media_a</th><td>4500.0000000</td><td>4111.111111</td><td>5750.0000000</td></tr>\n",
              "\t<tr><th scope=row>assimetria_a</th><td>   0.5989042</td><td>   1.116122</td><td>  -0.2360201</td></tr>\n",
              "\t<tr><th scope=row>curtose_a</th><td>  -1.7847057</td><td>  -0.416036</td><td>  -1.6845088</td></tr>\n",
              "</tbody>\n",
              "</table>\n"
            ],
            "text/markdown": "\nA data.frame: 5 × 3\n\n| <!--/--> | t.a.df_resumo. &lt;dbl&gt; | t.b.df_resumo. &lt;dbl&gt; | t.c.df_resumo. &lt;dbl&gt; |\n|---|---|---|---|\n| moda_a |           NA | 3000.000000 | 7000.0000000 |\n| mediana_a | 3500.0000000 | 3000.000000 | 6500.0000000 |\n| media_a | 4500.0000000 | 4111.111111 | 5750.0000000 |\n| assimetria_a |    0.5989042 |    1.116122 |   -0.2360201 |\n| curtose_a |   -1.7847057 |   -0.416036 |   -1.6845088 |\n\n",
            "text/latex": "A data.frame: 5 × 3\n\\begin{tabular}{r|lll}\n  & t.a.df\\_resumo. & t.b.df\\_resumo. & t.c.df\\_resumo.\\\\\n  & <dbl> & <dbl> & <dbl>\\\\\n\\hline\n\tmoda\\_a &           NA & 3000.000000 & 7000.0000000\\\\\n\tmediana\\_a & 3500.0000000 & 3000.000000 & 6500.0000000\\\\\n\tmedia\\_a & 4500.0000000 & 4111.111111 & 5750.0000000\\\\\n\tassimetria\\_a &    0.5989042 &    1.116122 &   -0.2360201\\\\\n\tcurtose\\_a &   -1.7847057 &   -0.416036 &   -1.6845088\\\\\n\\end{tabular}\n",
            "text/plain": [
              "             t.a.df_resumo. t.b.df_resumo. t.c.df_resumo.\n",
              "moda_a                 NA   3000.000000    7000.0000000  \n",
              "mediana_a    3500.0000000   3000.000000    6500.0000000  \n",
              "media_a      4500.0000000   4111.111111    5750.0000000  \n",
              "assimetria_a    0.5989042      1.116122      -0.2360201  \n",
              "curtose_a      -1.7847057     -0.416036      -1.6845088  "
            ]
          },
          "metadata": {}
        }
      ]
    }
  ]
}