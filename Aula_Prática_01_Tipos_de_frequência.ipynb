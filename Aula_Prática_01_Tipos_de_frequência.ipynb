{
  "nbformat": 4,
  "nbformat_minor": 0,
  "metadata": {
    "colab": {
      "provenance": []
    },
    "kernelspec": {
      "name": "ir",
      "display_name": "R"
    },
    "language_info": {
      "name": "R"
    }
  },
  "cells": [
    {
      "cell_type": "markdown",
      "source": [
        "#Aula Prática 01 - Tipos de frequência\n"
      ],
      "metadata": {
        "id": "XJaOENEkLfs7"
      }
    },
    {
      "cell_type": "markdown",
      "source": [
        "Instalando e Carregando **Bibliotecas**"
      ],
      "metadata": {
        "id": "123GlwqGQhoM"
      }
    },
    {
      "cell_type": "code",
      "source": [
        "install.packages(\"Hmisc\")\n",
        "#install.packages(\"dplyr\")"
      ],
      "metadata": {
        "colab": {
          "base_uri": "https://localhost:8080/"
        },
        "id": "WkrVCJgQOtbH",
        "outputId": "0f5fe4a6-a35b-40e3-8a51-23a50fe41711"
      },
      "execution_count": null,
      "outputs": [
        {
          "output_type": "stream",
          "name": "stderr",
          "text": [
            "Installing package into ‘/usr/local/lib/R/site-library’\n",
            "(as ‘lib’ is unspecified)\n",
            "\n",
            "also installing the dependencies ‘checkmate’, ‘gridExtra’, ‘htmlTable’, ‘viridis’, ‘Formula’\n",
            "\n",
            "\n"
          ]
        }
      ]
    },
    {
      "cell_type": "code",
      "source": [
        "require(Hmisc)\n",
        "require(dplyr)"
      ],
      "metadata": {
        "id": "3sFmLPJSO4EH",
        "colab": {
          "base_uri": "https://localhost:8080/"
        },
        "outputId": "30197533-2796-4eea-92e2-457ce0e5a45e",
        "collapsed": true
      },
      "execution_count": null,
      "outputs": [
        {
          "output_type": "stream",
          "name": "stderr",
          "text": [
            "Loading required package: Hmisc\n",
            "\n",
            "\n",
            "Attaching package: ‘Hmisc’\n",
            "\n",
            "\n",
            "The following objects are masked from ‘package:base’:\n",
            "\n",
            "    format.pval, units\n",
            "\n",
            "\n",
            "Loading required package: dplyr\n",
            "\n",
            "\n",
            "Attaching package: ‘dplyr’\n",
            "\n",
            "\n",
            "The following objects are masked from ‘package:Hmisc’:\n",
            "\n",
            "    src, summarize\n",
            "\n",
            "\n",
            "The following objects are masked from ‘package:stats’:\n",
            "\n",
            "    filter, lag\n",
            "\n",
            "\n",
            "The following objects are masked from ‘package:base’:\n",
            "\n",
            "    intersect, setdiff, setequal, union\n",
            "\n",
            "\n"
          ]
        }
      ]
    },
    {
      "cell_type": "code",
      "execution_count": null,
      "metadata": {
        "colab": {
          "base_uri": "https://localhost:8080/",
          "height": 34
        },
        "id": "dhykOWf1KFUv",
        "outputId": "abbd9803-ab32-4e31-e71e-d329b214501c"
      },
      "outputs": [
        {
          "output_type": "display_data",
          "data": {
            "text/html": [
              "<style>\n",
              ".list-inline {list-style: none; margin:0; padding: 0}\n",
              ".list-inline>li {display: inline-block}\n",
              ".list-inline>li:not(:last-child)::after {content: \"\\00b7\"; padding: 0 .5ex}\n",
              "</style>\n",
              "<ol class=list-inline><li>10</li><li>10</li><li>10</li><li>10</li><li>30</li><li>30</li><li>30</li><li>30</li><li>30</li><li>30</li><li>30</li><li>30</li><li>50</li><li>50</li><li>50</li><li>50</li><li>70</li><li>70</li><li>70</li><li>90</li></ol>\n"
            ],
            "text/markdown": "1. 10\n2. 10\n3. 10\n4. 10\n5. 30\n6. 30\n7. 30\n8. 30\n9. 30\n10. 30\n11. 30\n12. 30\n13. 50\n14. 50\n15. 50\n16. 50\n17. 70\n18. 70\n19. 70\n20. 90\n\n\n",
            "text/latex": "\\begin{enumerate*}\n\\item 10\n\\item 10\n\\item 10\n\\item 10\n\\item 30\n\\item 30\n\\item 30\n\\item 30\n\\item 30\n\\item 30\n\\item 30\n\\item 30\n\\item 50\n\\item 50\n\\item 50\n\\item 50\n\\item 70\n\\item 70\n\\item 70\n\\item 90\n\\end{enumerate*}\n",
            "text/plain": [
              " [1] 10 10 10 10 30 30 30 30 30 30 30 30 50 50 50 50 70 70 70 90"
            ]
          },
          "metadata": {}
        }
      ],
      "source": [
        "#Primeira forma de criar o vetor\n",
        "idade = c(10,\n",
        "          10,\n",
        "          10,\n",
        "          10,\n",
        "          30,\n",
        "          30,\n",
        "          30,\n",
        "          30,\n",
        "          30,\n",
        "          30,\n",
        "          30,\n",
        "          30,\n",
        "          50,\n",
        "          50,\n",
        "          50,\n",
        "          50,\n",
        "          70,\n",
        "          70,\n",
        "          70,\n",
        "          90)\n",
        "idade"
      ]
    },
    {
      "cell_type": "code",
      "source": [
        "idade2 = c(rep(10, 4), rep(30, 8), rep(50, 4), rep(70, 3), 90)\n",
        "idade2"
      ],
      "metadata": {
        "colab": {
          "base_uri": "https://localhost:8080/",
          "height": 34
        },
        "id": "-_tO9y2bMnTI",
        "outputId": "41a96639-400e-4316-acae-586b15043fe1"
      },
      "execution_count": null,
      "outputs": [
        {
          "output_type": "display_data",
          "data": {
            "text/html": [
              "<style>\n",
              ".list-inline {list-style: none; margin:0; padding: 0}\n",
              ".list-inline>li {display: inline-block}\n",
              ".list-inline>li:not(:last-child)::after {content: \"\\00b7\"; padding: 0 .5ex}\n",
              "</style>\n",
              "<ol class=list-inline><li>10</li><li>10</li><li>10</li><li>10</li><li>30</li><li>30</li><li>30</li><li>30</li><li>30</li><li>30</li><li>30</li><li>30</li><li>50</li><li>50</li><li>50</li><li>50</li><li>70</li><li>70</li><li>70</li><li>90</li></ol>\n"
            ],
            "text/markdown": "1. 10\n2. 10\n3. 10\n4. 10\n5. 30\n6. 30\n7. 30\n8. 30\n9. 30\n10. 30\n11. 30\n12. 30\n13. 50\n14. 50\n15. 50\n16. 50\n17. 70\n18. 70\n19. 70\n20. 90\n\n\n",
            "text/latex": "\\begin{enumerate*}\n\\item 10\n\\item 10\n\\item 10\n\\item 10\n\\item 30\n\\item 30\n\\item 30\n\\item 30\n\\item 30\n\\item 30\n\\item 30\n\\item 30\n\\item 50\n\\item 50\n\\item 50\n\\item 50\n\\item 70\n\\item 70\n\\item 70\n\\item 90\n\\end{enumerate*}\n",
            "text/plain": [
              " [1] 10 10 10 10 30 30 30 30 30 30 30 30 50 50 50 50 70 70 70 90"
            ]
          },
          "metadata": {}
        }
      ]
    },
    {
      "cell_type": "code",
      "source": [
        "#Achando as Frequências simples (fi)\n",
        "frequencia_simples = table(idade)\n",
        "frequencia_simples"
      ],
      "metadata": {
        "colab": {
          "base_uri": "https://localhost:8080/",
          "height": 71
        },
        "id": "f-fg7vgWMrHN",
        "outputId": "17486524-2b32-44d7-8125-d6641d916e5f"
      },
      "execution_count": null,
      "outputs": [
        {
          "output_type": "display_data",
          "data": {
            "text/plain": [
              "idade\n",
              "10 30 50 70 90 \n",
              " 4  8  4  3  1 "
            ]
          },
          "metadata": {}
        }
      ]
    },
    {
      "cell_type": "code",
      "source": [
        "#Visual excel\n",
        "dados_simples = data.frame(frequencia_simples)\n",
        "dados_simples"
      ],
      "metadata": {
        "id": "HrgW_dSqMxXn",
        "colab": {
          "base_uri": "https://localhost:8080/",
          "height": 272
        },
        "outputId": "3c3f1d98-fa93-4157-ca0d-35df39583387"
      },
      "execution_count": null,
      "outputs": [
        {
          "output_type": "display_data",
          "data": {
            "text/html": [
              "<table class=\"dataframe\">\n",
              "<caption>A data.frame: 5 × 2</caption>\n",
              "<thead>\n",
              "\t<tr><th scope=col>idade</th><th scope=col>Freq</th></tr>\n",
              "\t<tr><th scope=col>&lt;fct&gt;</th><th scope=col>&lt;int&gt;</th></tr>\n",
              "</thead>\n",
              "<tbody>\n",
              "\t<tr><td>10</td><td>4</td></tr>\n",
              "\t<tr><td>30</td><td>8</td></tr>\n",
              "\t<tr><td>50</td><td>4</td></tr>\n",
              "\t<tr><td>70</td><td>3</td></tr>\n",
              "\t<tr><td>90</td><td>1</td></tr>\n",
              "</tbody>\n",
              "</table>\n"
            ],
            "text/markdown": "\nA data.frame: 5 × 2\n\n| idade &lt;fct&gt; | Freq &lt;int&gt; |\n|---|---|\n| 10 | 4 |\n| 30 | 8 |\n| 50 | 4 |\n| 70 | 3 |\n| 90 | 1 |\n\n",
            "text/latex": "A data.frame: 5 × 2\n\\begin{tabular}{ll}\n idade & Freq\\\\\n <fct> & <int>\\\\\n\\hline\n\t 10 & 4\\\\\n\t 30 & 8\\\\\n\t 50 & 4\\\\\n\t 70 & 3\\\\\n\t 90 & 1\\\\\n\\end{tabular}\n",
            "text/plain": [
              "  idade Freq\n",
              "1 10    4   \n",
              "2 30    8   \n",
              "3 50    4   \n",
              "4 70    3   \n",
              "5 90    1   "
            ]
          },
          "metadata": {}
        }
      ]
    },
    {
      "cell_type": "code",
      "source": [
        "#ver o banco todo (Não recomendável para bancos gigantescos)\n",
        "View(dados_simples)"
      ],
      "metadata": {
        "colab": {
          "base_uri": "https://localhost:8080/",
          "height": 272
        },
        "id": "hzdh4k8RM0g6",
        "outputId": "050b638e-2b0a-4a3e-cdb0-61526d7fc6d9"
      },
      "execution_count": null,
      "outputs": [
        {
          "output_type": "display_data",
          "data": {
            "text/plain": [
              "  idade Freq\n",
              "1 10    4   \n",
              "2 30    8   \n",
              "3 50    4   \n",
              "4 70    3   \n",
              "5 90    1   "
            ],
            "text/html": [
              "<table class=\"dataframe\">\n",
              "<caption>A data.frame: 5 × 2</caption>\n",
              "<thead>\n",
              "\t<tr><th scope=col>idade</th><th scope=col>Freq</th></tr>\n",
              "\t<tr><th scope=col>&lt;fct&gt;</th><th scope=col>&lt;int&gt;</th></tr>\n",
              "</thead>\n",
              "<tbody>\n",
              "\t<tr><td>10</td><td>4</td></tr>\n",
              "\t<tr><td>30</td><td>8</td></tr>\n",
              "\t<tr><td>50</td><td>4</td></tr>\n",
              "\t<tr><td>70</td><td>3</td></tr>\n",
              "\t<tr><td>90</td><td>1</td></tr>\n",
              "</tbody>\n",
              "</table>\n"
            ],
            "text/markdown": "\nA data.frame: 5 × 2\n\n| idade &lt;fct&gt; | Freq &lt;int&gt; |\n|---|---|\n| 10 | 4 |\n| 30 | 8 |\n| 50 | 4 |\n| 70 | 3 |\n| 90 | 1 |\n\n",
            "text/latex": "A data.frame: 5 × 2\n\\begin{tabular}{ll}\n idade & Freq\\\\\n <fct> & <int>\\\\\n\\hline\n\t 10 & 4\\\\\n\t 30 & 8\\\\\n\t 50 & 4\\\\\n\t 70 & 3\\\\\n\t 90 & 1\\\\\n\\end{tabular}\n"
          },
          "metadata": {}
        }
      ]
    },
    {
      "cell_type": "code",
      "source": [
        "#Ver as n primeiras linhas do data.frame\n",
        "head(dados_simples, 2)"
      ],
      "metadata": {
        "colab": {
          "base_uri": "https://localhost:8080/",
          "height": 160
        },
        "id": "ffN2fKy6M5l_",
        "outputId": "7f1e70dc-2f34-450f-af03-86c2742cdc9f"
      },
      "execution_count": null,
      "outputs": [
        {
          "output_type": "display_data",
          "data": {
            "text/html": [
              "<table class=\"dataframe\">\n",
              "<caption>A data.frame: 2 × 2</caption>\n",
              "<thead>\n",
              "\t<tr><th></th><th scope=col>idade</th><th scope=col>Freq</th></tr>\n",
              "\t<tr><th></th><th scope=col>&lt;fct&gt;</th><th scope=col>&lt;int&gt;</th></tr>\n",
              "</thead>\n",
              "<tbody>\n",
              "\t<tr><th scope=row>1</th><td>10</td><td>4</td></tr>\n",
              "\t<tr><th scope=row>2</th><td>30</td><td>8</td></tr>\n",
              "</tbody>\n",
              "</table>\n"
            ],
            "text/markdown": "\nA data.frame: 2 × 2\n\n| <!--/--> | idade &lt;fct&gt; | Freq &lt;int&gt; |\n|---|---|---|\n| 1 | 10 | 4 |\n| 2 | 30 | 8 |\n\n",
            "text/latex": "A data.frame: 2 × 2\n\\begin{tabular}{r|ll}\n  & idade & Freq\\\\\n  & <fct> & <int>\\\\\n\\hline\n\t1 & 10 & 4\\\\\n\t2 & 30 & 8\\\\\n\\end{tabular}\n",
            "text/plain": [
              "  idade Freq\n",
              "1 10    4   \n",
              "2 30    8   "
            ]
          },
          "metadata": {}
        }
      ]
    },
    {
      "cell_type": "code",
      "source": [
        "#Frequência acumulada\n",
        "frequencia_acumulada = cumsum(frequencia_simples)\n",
        "frequencia_acumulada"
      ],
      "metadata": {
        "colab": {
          "base_uri": "https://localhost:8080/",
          "height": 34
        },
        "id": "KiAM4d_iM-9P",
        "outputId": "abdc57fe-437c-4419-c4e7-e63df3324f33"
      },
      "execution_count": null,
      "outputs": [
        {
          "output_type": "display_data",
          "data": {
            "text/html": [
              "<style>\n",
              ".dl-inline {width: auto; margin:0; padding: 0}\n",
              ".dl-inline>dt, .dl-inline>dd {float: none; width: auto; display: inline-block}\n",
              ".dl-inline>dt::after {content: \":\\0020\"; padding-right: .5ex}\n",
              ".dl-inline>dt:not(:first-of-type) {padding-left: .5ex}\n",
              "</style><dl class=dl-inline><dt>10</dt><dd>4</dd><dt>30</dt><dd>12</dd><dt>50</dt><dd>16</dd><dt>70</dt><dd>19</dd><dt>90</dt><dd>20</dd></dl>\n"
            ],
            "text/markdown": "10\n:   430\n:   1250\n:   1670\n:   1990\n:   20\n\n",
            "text/latex": "\\begin{description*}\n\\item[10] 4\n\\item[30] 12\n\\item[50] 16\n\\item[70] 19\n\\item[90] 20\n\\end{description*}\n",
            "text/plain": [
              "10 30 50 70 90 \n",
              " 4 12 16 19 20 "
            ]
          },
          "metadata": {}
        }
      ]
    },
    {
      "cell_type": "code",
      "source": [
        "dados_simples"
      ],
      "metadata": {
        "colab": {
          "base_uri": "https://localhost:8080/",
          "height": 272
        },
        "id": "BUPqoKw5MvVo",
        "outputId": "a40441b9-d07b-49f5-ff5c-27ae683d0a33"
      },
      "execution_count": null,
      "outputs": [
        {
          "output_type": "display_data",
          "data": {
            "text/html": [
              "<table class=\"dataframe\">\n",
              "<caption>A data.frame: 5 × 2</caption>\n",
              "<thead>\n",
              "\t<tr><th scope=col>idade</th><th scope=col>Freq</th></tr>\n",
              "\t<tr><th scope=col>&lt;fct&gt;</th><th scope=col>&lt;int&gt;</th></tr>\n",
              "</thead>\n",
              "<tbody>\n",
              "\t<tr><td>10</td><td>4</td></tr>\n",
              "\t<tr><td>30</td><td>8</td></tr>\n",
              "\t<tr><td>50</td><td>4</td></tr>\n",
              "\t<tr><td>70</td><td>3</td></tr>\n",
              "\t<tr><td>90</td><td>1</td></tr>\n",
              "</tbody>\n",
              "</table>\n"
            ],
            "text/markdown": "\nA data.frame: 5 × 2\n\n| idade &lt;fct&gt; | Freq &lt;int&gt; |\n|---|---|\n| 10 | 4 |\n| 30 | 8 |\n| 50 | 4 |\n| 70 | 3 |\n| 90 | 1 |\n\n",
            "text/latex": "A data.frame: 5 × 2\n\\begin{tabular}{ll}\n idade & Freq\\\\\n <fct> & <int>\\\\\n\\hline\n\t 10 & 4\\\\\n\t 30 & 8\\\\\n\t 50 & 4\\\\\n\t 70 & 3\\\\\n\t 90 & 1\\\\\n\\end{tabular}\n",
            "text/plain": [
              "  idade Freq\n",
              "1 10    4   \n",
              "2 30    8   \n",
              "3 50    4   \n",
              "4 70    3   \n",
              "5 90    1   "
            ]
          },
          "metadata": {}
        }
      ]
    },
    {
      "cell_type": "code",
      "source": [
        "#Adicionando coluna com acumulada\n",
        "dados_simples$frequencia_acumulada = frequencia_acumulada\n",
        "dados_simples"
      ],
      "metadata": {
        "colab": {
          "base_uri": "https://localhost:8080/",
          "height": 254
        },
        "id": "fJIPriO7NJpq",
        "outputId": "d80e1dae-bc04-497f-9b6a-652c020ba275"
      },
      "execution_count": null,
      "outputs": [
        {
          "output_type": "display_data",
          "data": {
            "text/html": [
              "<table class=\"dataframe\">\n",
              "<caption>A data.frame: 5 × 3</caption>\n",
              "<thead>\n",
              "\t<tr><th scope=col>idade</th><th scope=col>Freq</th><th scope=col>frequencia_acumulada</th></tr>\n",
              "\t<tr><th scope=col>&lt;fct&gt;</th><th scope=col>&lt;int&gt;</th><th scope=col>&lt;int&gt;</th></tr>\n",
              "</thead>\n",
              "<tbody>\n",
              "\t<tr><td>10</td><td>4</td><td> 4</td></tr>\n",
              "\t<tr><td>30</td><td>8</td><td>12</td></tr>\n",
              "\t<tr><td>50</td><td>4</td><td>16</td></tr>\n",
              "\t<tr><td>70</td><td>3</td><td>19</td></tr>\n",
              "\t<tr><td>90</td><td>1</td><td>20</td></tr>\n",
              "</tbody>\n",
              "</table>\n"
            ],
            "text/markdown": "\nA data.frame: 5 × 3\n\n| idade &lt;fct&gt; | Freq &lt;int&gt; | frequencia_acumulada &lt;int&gt; |\n|---|---|---|\n| 10 | 4 |  4 |\n| 30 | 8 | 12 |\n| 50 | 4 | 16 |\n| 70 | 3 | 19 |\n| 90 | 1 | 20 |\n\n",
            "text/latex": "A data.frame: 5 × 3\n\\begin{tabular}{lll}\n idade & Freq & frequencia\\_acumulada\\\\\n <fct> & <int> & <int>\\\\\n\\hline\n\t 10 & 4 &  4\\\\\n\t 30 & 8 & 12\\\\\n\t 50 & 4 & 16\\\\\n\t 70 & 3 & 19\\\\\n\t 90 & 1 & 20\\\\\n\\end{tabular}\n",
            "text/plain": [
              "  idade Freq frequencia_acumulada\n",
              "1 10    4     4                  \n",
              "2 30    8    12                  \n",
              "3 50    4    16                  \n",
              "4 70    3    19                  \n",
              "5 90    1    20                  "
            ]
          },
          "metadata": {}
        }
      ]
    },
    {
      "cell_type": "code",
      "source": [
        "#Frequência relativa simples\n",
        "frequencia_relativa_simples = frequencia_simples / sum(frequencia_simples)\n",
        "frequencia_relativa_simples"
      ],
      "metadata": {
        "colab": {
          "base_uri": "https://localhost:8080/",
          "height": 71
        },
        "id": "Ag8c8ifOOAZe",
        "outputId": "779cc680-2464-4428-f8f2-76e4526ecf43"
      },
      "execution_count": null,
      "outputs": [
        {
          "output_type": "display_data",
          "data": {
            "text/plain": [
              "idade\n",
              "  10   30   50   70   90 \n",
              "0.20 0.40 0.20 0.15 0.05 "
            ]
          },
          "metadata": {}
        }
      ]
    },
    {
      "cell_type": "code",
      "source": [
        "#segunda forma para obter frequencias relativa simples utilizando a função prop.table()\n",
        "prop.table(frequencia_simples)\n"
      ],
      "metadata": {
        "colab": {
          "base_uri": "https://localhost:8080/",
          "height": 71
        },
        "id": "-0Gt1W_HOGw5",
        "outputId": "3ac61aeb-809a-480a-e620-f115b12c120e"
      },
      "execution_count": null,
      "outputs": [
        {
          "output_type": "display_data",
          "data": {
            "text/plain": [
              "idade\n",
              "  10   30   50   70   90 \n",
              "0.20 0.40 0.20 0.15 0.05 "
            ]
          },
          "metadata": {}
        }
      ]
    },
    {
      "cell_type": "code",
      "source": [
        "#Adicionando a Frequência relativa simples\n",
        "dados_simples$frequencia_relativa_simples = frequencia_relativa_simples\n",
        "dados_simples"
      ],
      "metadata": {
        "colab": {
          "base_uri": "https://localhost:8080/",
          "height": 254
        },
        "id": "oY24cbm4OK3J",
        "outputId": "cfd406ea-e642-4066-c548-e97795273f77"
      },
      "execution_count": null,
      "outputs": [
        {
          "output_type": "display_data",
          "data": {
            "text/html": [
              "<table class=\"dataframe\">\n",
              "<caption>A data.frame: 5 × 4</caption>\n",
              "<thead>\n",
              "\t<tr><th scope=col>idade</th><th scope=col>Freq</th><th scope=col>frequencia_acumulada</th><th scope=col>frequencia_relativa_simples</th></tr>\n",
              "\t<tr><th scope=col>&lt;fct&gt;</th><th scope=col>&lt;int&gt;</th><th scope=col>&lt;int&gt;</th><th scope=col>&lt;table[1d]&gt;</th></tr>\n",
              "</thead>\n",
              "<tbody>\n",
              "\t<tr><td>10</td><td>4</td><td> 4</td><td>0.20</td></tr>\n",
              "\t<tr><td>30</td><td>8</td><td>12</td><td>0.40</td></tr>\n",
              "\t<tr><td>50</td><td>4</td><td>16</td><td>0.20</td></tr>\n",
              "\t<tr><td>70</td><td>3</td><td>19</td><td>0.15</td></tr>\n",
              "\t<tr><td>90</td><td>1</td><td>20</td><td>0.05</td></tr>\n",
              "</tbody>\n",
              "</table>\n"
            ],
            "text/markdown": "\nA data.frame: 5 × 4\n\n| idade &lt;fct&gt; | Freq &lt;int&gt; | frequencia_acumulada &lt;int&gt; | frequencia_relativa_simples &lt;table[1d]&gt; |\n|---|---|---|---|\n| 10 | 4 |  4 | 0.20 |\n| 30 | 8 | 12 | 0.40 |\n| 50 | 4 | 16 | 0.20 |\n| 70 | 3 | 19 | 0.15 |\n| 90 | 1 | 20 | 0.05 |\n\n",
            "text/latex": "A data.frame: 5 × 4\n\\begin{tabular}{llll}\n idade & Freq & frequencia\\_acumulada & frequencia\\_relativa\\_simples\\\\\n <fct> & <int> & <int> & <table{[}1d{]}>\\\\\n\\hline\n\t 10 & 4 &  4 & 0.20\\\\\n\t 30 & 8 & 12 & 0.40\\\\\n\t 50 & 4 & 16 & 0.20\\\\\n\t 70 & 3 & 19 & 0.15\\\\\n\t 90 & 1 & 20 & 0.05\\\\\n\\end{tabular}\n",
            "text/plain": [
              "  idade Freq frequencia_acumulada frequencia_relativa_simples\n",
              "1 10    4     4                   0.20                       \n",
              "2 30    8    12                   0.40                       \n",
              "3 50    4    16                   0.20                       \n",
              "4 70    3    19                   0.15                       \n",
              "5 90    1    20                   0.05                       "
            ]
          },
          "metadata": {}
        }
      ]
    },
    {
      "cell_type": "code",
      "source": [
        "frequencia_relativa_acumulada = cumsum(frequencia_relativa_simples)\n",
        "frequencia_relativa_acumulada"
      ],
      "metadata": {
        "colab": {
          "base_uri": "https://localhost:8080/",
          "height": 34
        },
        "id": "wtwUuKeuQaP5",
        "outputId": "f81d1e04-6c6d-498a-a203-8c17e24879f8"
      },
      "execution_count": null,
      "outputs": [
        {
          "output_type": "display_data",
          "data": {
            "text/html": [
              "<style>\n",
              ".dl-inline {width: auto; margin:0; padding: 0}\n",
              ".dl-inline>dt, .dl-inline>dd {float: none; width: auto; display: inline-block}\n",
              ".dl-inline>dt::after {content: \":\\0020\"; padding-right: .5ex}\n",
              ".dl-inline>dt:not(:first-of-type) {padding-left: .5ex}\n",
              "</style><dl class=dl-inline><dt>10</dt><dd>0.2</dd><dt>30</dt><dd>0.6</dd><dt>50</dt><dd>0.8</dd><dt>70</dt><dd>0.95</dd><dt>90</dt><dd>1</dd></dl>\n"
            ],
            "text/markdown": "10\n:   0.230\n:   0.650\n:   0.870\n:   0.9590\n:   1\n\n",
            "text/latex": "\\begin{description*}\n\\item[10] 0.2\n\\item[30] 0.6\n\\item[50] 0.8\n\\item[70] 0.95\n\\item[90] 1\n\\end{description*}\n",
            "text/plain": [
              "  10   30   50   70   90 \n",
              "0.20 0.60 0.80 0.95 1.00 "
            ]
          },
          "metadata": {}
        }
      ]
    },
    {
      "cell_type": "code",
      "source": [
        "#Criando a variavel frequencia_relativa_acumulada\n",
        "dados_simples$frequencia_relativa_acumulada = frequencia_relativa_acumulada\n",
        "dados_simples"
      ],
      "metadata": {
        "colab": {
          "base_uri": "https://localhost:8080/",
          "height": 254
        },
        "id": "vXV-F5PUOWGz",
        "outputId": "c0362965-cb37-4ecb-f28c-e011c2199829"
      },
      "execution_count": null,
      "outputs": [
        {
          "output_type": "display_data",
          "data": {
            "text/html": [
              "<table class=\"dataframe\">\n",
              "<caption>A data.frame: 5 × 5</caption>\n",
              "<thead>\n",
              "\t<tr><th scope=col>idade</th><th scope=col>Freq</th><th scope=col>frequencia_acumulada</th><th scope=col>frequencia_relativa_simples</th><th scope=col>frequencia_relativa_acumulada</th></tr>\n",
              "\t<tr><th scope=col>&lt;fct&gt;</th><th scope=col>&lt;int&gt;</th><th scope=col>&lt;int&gt;</th><th scope=col>&lt;table[1d]&gt;</th><th scope=col>&lt;dbl&gt;</th></tr>\n",
              "</thead>\n",
              "<tbody>\n",
              "\t<tr><td>10</td><td>4</td><td> 4</td><td>0.20</td><td>0.20</td></tr>\n",
              "\t<tr><td>30</td><td>8</td><td>12</td><td>0.40</td><td>0.60</td></tr>\n",
              "\t<tr><td>50</td><td>4</td><td>16</td><td>0.20</td><td>0.80</td></tr>\n",
              "\t<tr><td>70</td><td>3</td><td>19</td><td>0.15</td><td>0.95</td></tr>\n",
              "\t<tr><td>90</td><td>1</td><td>20</td><td>0.05</td><td>1.00</td></tr>\n",
              "</tbody>\n",
              "</table>\n"
            ],
            "text/markdown": "\nA data.frame: 5 × 5\n\n| idade &lt;fct&gt; | Freq &lt;int&gt; | frequencia_acumulada &lt;int&gt; | frequencia_relativa_simples &lt;table[1d]&gt; | frequencia_relativa_acumulada &lt;dbl&gt; |\n|---|---|---|---|---|\n| 10 | 4 |  4 | 0.20 | 0.20 |\n| 30 | 8 | 12 | 0.40 | 0.60 |\n| 50 | 4 | 16 | 0.20 | 0.80 |\n| 70 | 3 | 19 | 0.15 | 0.95 |\n| 90 | 1 | 20 | 0.05 | 1.00 |\n\n",
            "text/latex": "A data.frame: 5 × 5\n\\begin{tabular}{lllll}\n idade & Freq & frequencia\\_acumulada & frequencia\\_relativa\\_simples & frequencia\\_relativa\\_acumulada\\\\\n <fct> & <int> & <int> & <table{[}1d{]}> & <dbl>\\\\\n\\hline\n\t 10 & 4 &  4 & 0.20 & 0.20\\\\\n\t 30 & 8 & 12 & 0.40 & 0.60\\\\\n\t 50 & 4 & 16 & 0.20 & 0.80\\\\\n\t 70 & 3 & 19 & 0.15 & 0.95\\\\\n\t 90 & 1 & 20 & 0.05 & 1.00\\\\\n\\end{tabular}\n",
            "text/plain": [
              "  idade Freq frequencia_acumulada frequencia_relativa_simples\n",
              "1 10    4     4                   0.20                       \n",
              "2 30    8    12                   0.40                       \n",
              "3 50    4    16                   0.20                       \n",
              "4 70    3    19                   0.15                       \n",
              "5 90    1    20                   0.05                       \n",
              "  frequencia_relativa_acumulada\n",
              "1 0.20                         \n",
              "2 0.60                         \n",
              "3 0.80                         \n",
              "4 0.95                         \n",
              "5 1.00                         "
            ]
          },
          "metadata": {}
        }
      ]
    },
    {
      "cell_type": "code",
      "source": [
        "#Renomeando uma coluna do dataframe dados_simples\n",
        "names(dados_simples)[5] = \"frequencia_relativa_acumulada\"\n",
        "dados_simples"
      ],
      "metadata": {
        "colab": {
          "base_uri": "https://localhost:8080/",
          "height": 254
        },
        "id": "j2ty2b6qOey3",
        "outputId": "983ba8cf-da31-494c-8ba7-f14f407dd86d"
      },
      "execution_count": null,
      "outputs": [
        {
          "output_type": "display_data",
          "data": {
            "text/html": [
              "<table class=\"dataframe\">\n",
              "<caption>A data.frame: 5 × 5</caption>\n",
              "<thead>\n",
              "\t<tr><th scope=col>idade</th><th scope=col>Freq</th><th scope=col>frequencia_acumulada</th><th scope=col>frequencia_relativa_simples</th><th scope=col>frequencia_relativa_acumulada</th></tr>\n",
              "\t<tr><th scope=col>&lt;fct&gt;</th><th scope=col>&lt;int&gt;</th><th scope=col>&lt;int&gt;</th><th scope=col>&lt;table[1d]&gt;</th><th scope=col>&lt;dbl&gt;</th></tr>\n",
              "</thead>\n",
              "<tbody>\n",
              "\t<tr><td>10</td><td>4</td><td> 4</td><td>0.20</td><td>0.20</td></tr>\n",
              "\t<tr><td>30</td><td>8</td><td>12</td><td>0.40</td><td>0.60</td></tr>\n",
              "\t<tr><td>50</td><td>4</td><td>16</td><td>0.20</td><td>0.80</td></tr>\n",
              "\t<tr><td>70</td><td>3</td><td>19</td><td>0.15</td><td>0.95</td></tr>\n",
              "\t<tr><td>90</td><td>1</td><td>20</td><td>0.05</td><td>1.00</td></tr>\n",
              "</tbody>\n",
              "</table>\n"
            ],
            "text/markdown": "\nA data.frame: 5 × 5\n\n| idade &lt;fct&gt; | Freq &lt;int&gt; | frequencia_acumulada &lt;int&gt; | frequencia_relativa_simples &lt;table[1d]&gt; | frequencia_relativa_acumulada &lt;dbl&gt; |\n|---|---|---|---|---|\n| 10 | 4 |  4 | 0.20 | 0.20 |\n| 30 | 8 | 12 | 0.40 | 0.60 |\n| 50 | 4 | 16 | 0.20 | 0.80 |\n| 70 | 3 | 19 | 0.15 | 0.95 |\n| 90 | 1 | 20 | 0.05 | 1.00 |\n\n",
            "text/latex": "A data.frame: 5 × 5\n\\begin{tabular}{lllll}\n idade & Freq & frequencia\\_acumulada & frequencia\\_relativa\\_simples & frequencia\\_relativa\\_acumulada\\\\\n <fct> & <int> & <int> & <table{[}1d{]}> & <dbl>\\\\\n\\hline\n\t 10 & 4 &  4 & 0.20 & 0.20\\\\\n\t 30 & 8 & 12 & 0.40 & 0.60\\\\\n\t 50 & 4 & 16 & 0.20 & 0.80\\\\\n\t 70 & 3 & 19 & 0.15 & 0.95\\\\\n\t 90 & 1 & 20 & 0.05 & 1.00\\\\\n\\end{tabular}\n",
            "text/plain": [
              "  idade Freq frequencia_acumulada frequencia_relativa_simples\n",
              "1 10    4     4                   0.20                       \n",
              "2 30    8    12                   0.40                       \n",
              "3 50    4    16                   0.20                       \n",
              "4 70    3    19                   0.15                       \n",
              "5 90    1    20                   0.05                       \n",
              "  frequencia_relativa_acumulada\n",
              "1 0.20                         \n",
              "2 0.60                         \n",
              "3 0.80                         \n",
              "4 0.95                         \n",
              "5 1.00                         "
            ]
          },
          "metadata": {}
        }
      ]
    },
    {
      "cell_type": "code",
      "source": [
        "#Achando automaticamente a frequência simples e relativa simples\n",
        "describe(idade)"
      ],
      "metadata": {
        "colab": {
          "base_uri": "https://localhost:8080/",
          "height": 180
        },
        "id": "bTZ_4xwEOnDz",
        "outputId": "88fa2828-3928-4070-8dc9-7db718809679"
      },
      "execution_count": null,
      "outputs": [
        {
          "output_type": "display_data",
          "data": {
            "text/plain": [
              "idade \n",
              "       n  missing distinct     Info     Mean      Gmd \n",
              "      20        0        5    0.919       39    25.58 \n",
              "                                   \n",
              "Value        10   30   50   70   90\n",
              "Frequency     4    8    4    3    1\n",
              "Proportion 0.20 0.40 0.20 0.15 0.05\n",
              "\n",
              "For the frequency table, variable is rounded to the nearest 0"
            ]
          },
          "metadata": {}
        }
      ]
    },
    {
      "cell_type": "code",
      "source": [
        "#base #FOG\n",
        "#f(g(x))\n",
        "#funcao3(funcao2(funcao1(head(dados_simples))))\n",
        "#tidyverse #GOF\n",
        "#g(f(x))\n",
        "#dados_simples %>% head() %>%\n",
        "#                  funcao1() %>%\n",
        "#                  funcao2() %>%\n",
        "#                  funcao3()"
      ],
      "metadata": {
        "id": "sfdFFQNcPMIf"
      },
      "execution_count": null,
      "outputs": []
    },
    {
      "cell_type": "code",
      "source": [
        "#funcao2(funcao1(head(dados_simples)))"
      ],
      "metadata": {
        "id": "cpMeLr1JUJgy"
      },
      "execution_count": null,
      "outputs": []
    },
    {
      "cell_type": "code",
      "source": [
        "#dados_simples %>%\n",
        "#       head() %>%\n",
        "#    funcao1() %>%\n",
        "#    funcao2()"
      ],
      "metadata": {
        "id": "Ro2kod14UPNM"
      },
      "execution_count": null,
      "outputs": []
    },
    {
      "cell_type": "code",
      "source": [
        "dados_simples_tidy = dados_simples %>%\n",
        "  mutate(\n",
        "    frequencia_acumulada = cumsum(frequencia_simples),\n",
        "    frequencia_relativa_simples = frequencia_simples / sum(frequencia_simples),\n",
        "    frequencia_relativa_acumulada = cumsum(frequencia_relativa_simples)\n",
        "  )\n",
        "dados_simples_tidy"
      ],
      "metadata": {
        "colab": {
          "base_uri": "https://localhost:8080/",
          "height": 254
        },
        "id": "KRayoCmHPTjk",
        "outputId": "a9ddc8d6-0a5a-48b4-ae5c-dcc0640b5d28"
      },
      "execution_count": null,
      "outputs": [
        {
          "output_type": "display_data",
          "data": {
            "text/html": [
              "<table class=\"dataframe\">\n",
              "<caption>A data.frame: 5 × 5</caption>\n",
              "<thead>\n",
              "\t<tr><th scope=col>idade</th><th scope=col>Freq</th><th scope=col>frequencia_acumulada</th><th scope=col>frequencia_relativa_simples</th><th scope=col>frequencia_relativa_acumulada</th></tr>\n",
              "\t<tr><th scope=col>&lt;fct&gt;</th><th scope=col>&lt;int&gt;</th><th scope=col>&lt;int&gt;</th><th scope=col>&lt;table[1d]&gt;</th><th scope=col>&lt;dbl&gt;</th></tr>\n",
              "</thead>\n",
              "<tbody>\n",
              "\t<tr><td>10</td><td>4</td><td> 4</td><td>0.20</td><td>0.20</td></tr>\n",
              "\t<tr><td>30</td><td>8</td><td>12</td><td>0.40</td><td>0.60</td></tr>\n",
              "\t<tr><td>50</td><td>4</td><td>16</td><td>0.20</td><td>0.80</td></tr>\n",
              "\t<tr><td>70</td><td>3</td><td>19</td><td>0.15</td><td>0.95</td></tr>\n",
              "\t<tr><td>90</td><td>1</td><td>20</td><td>0.05</td><td>1.00</td></tr>\n",
              "</tbody>\n",
              "</table>\n"
            ],
            "text/markdown": "\nA data.frame: 5 × 5\n\n| idade &lt;fct&gt; | Freq &lt;int&gt; | frequencia_acumulada &lt;int&gt; | frequencia_relativa_simples &lt;table[1d]&gt; | frequencia_relativa_acumulada &lt;dbl&gt; |\n|---|---|---|---|---|\n| 10 | 4 |  4 | 0.20 | 0.20 |\n| 30 | 8 | 12 | 0.40 | 0.60 |\n| 50 | 4 | 16 | 0.20 | 0.80 |\n| 70 | 3 | 19 | 0.15 | 0.95 |\n| 90 | 1 | 20 | 0.05 | 1.00 |\n\n",
            "text/latex": "A data.frame: 5 × 5\n\\begin{tabular}{lllll}\n idade & Freq & frequencia\\_acumulada & frequencia\\_relativa\\_simples & frequencia\\_relativa\\_acumulada\\\\\n <fct> & <int> & <int> & <table{[}1d{]}> & <dbl>\\\\\n\\hline\n\t 10 & 4 &  4 & 0.20 & 0.20\\\\\n\t 30 & 8 & 12 & 0.40 & 0.60\\\\\n\t 50 & 4 & 16 & 0.20 & 0.80\\\\\n\t 70 & 3 & 19 & 0.15 & 0.95\\\\\n\t 90 & 1 & 20 & 0.05 & 1.00\\\\\n\\end{tabular}\n",
            "text/plain": [
              "  idade Freq frequencia_acumulada frequencia_relativa_simples\n",
              "1 10    4     4                   0.20                       \n",
              "2 30    8    12                   0.40                       \n",
              "3 50    4    16                   0.20                       \n",
              "4 70    3    19                   0.15                       \n",
              "5 90    1    20                   0.05                       \n",
              "  frequencia_relativa_acumulada\n",
              "1 0.20                         \n",
              "2 0.60                         \n",
              "3 0.80                         \n",
              "4 0.95                         \n",
              "5 1.00                         "
            ]
          },
          "metadata": {}
        }
      ]
    },
    {
      "cell_type": "code",
      "source": [
        "#Exportando como banco de dados csv\n",
        "write.csv2(dados_simples_tidy, \"coco1.csv\", row.names = F)"
      ],
      "metadata": {
        "id": "KYymQJbrPjSj"
      },
      "execution_count": null,
      "outputs": []
    }
  ]
}